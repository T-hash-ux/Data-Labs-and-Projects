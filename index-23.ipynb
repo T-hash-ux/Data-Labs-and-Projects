{
 "cells": [
  {
   "cell_type": "markdown",
   "metadata": {
    "deletable": false,
    "editable": false,
    "nbgrader": {
     "cell_type": "markdown",
     "checksum": "d33c4c7bac7227acb64121312bfc918b",
     "grade": false,
     "grade_id": "57ff32044716927878faacfa96f306ad",
     "locked": true,
     "schema_version": 3,
     "solution": false,
     "task": false
    }
   },
   "source": [
    "# Data Visualization Checkpoint\n",
    "\n",
    "This checkpoint is designed to test your understanding of Data Visualization using Matplotlib and Seaborn.\n",
    "\n",
    "Specifically, this checkpoint will cover:\n",
    "\n",
    "* Importing data visualization modules\n",
    "* Using plt.subplots\n",
    "* Generating a sorted bar plot\n",
    "* Interpreting a visualization\n",
    "* Applying visual customizations \n",
    "\n",
    "## Your Task: Analyze the Special Attack Strength in a Pokemon Dataset.\n",
    "\n",
    "### Data Understanding\n",
    "\n",
    "In this repository under the file path `data/pokemon.csv` there is a CSV file containing information about  pokemon strength. \n",
    "\n",
    "The features of interest for this analysis will be:\n",
    "\n",
    "`Special Attack`: The special attack power of a pokemon. This measures the strength of a pokemon's special abilities.\n",
    "\n",
    "`Total Strength`: The sum of every strength statistic given to a pokemon.\n",
    "\n",
    "`Type`: A pokemon's type determines their weaknesses and their special abilities.\n",
    "\n",
    "`Name`: The name of a pokemon.\n",
    "\n",
    "### Requirements\n",
    "\n",
    "#### 1. Import the matplotlib pyplot module using the standard alias\n",
    "\n",
    "#### 2. Generate a sorted bar plot\n",
    "\n",
    "#### 3. Interpret a visualization\n",
    "\n",
    "#### 4. Import seaborn using the standard alias\n",
    "\n",
    "#### 5. Use seaborn's `boxplot`\n",
    "\n",
    "\n",
    "### Setup\n",
    "\n",
    "This notebook requires you use `plt.subplots` and that you assign matplotlib figure and axis variables to specific variable names.\n",
    "\n",
    "**For example:**\n",
    "\n",
    "Given the following prompt:\n",
    "\n",
    "\n",
    "\n",
    ">➡️**name the figure variable `plot_first_fig`**\n",
    "\n",
    ">➡️ **name the axis variable `plot_first_ax`.**\n",
    "\n",
    "\n",
    "The correct code would be as follows:\n",
    "\n",
    "```python\n",
    "plot_first_fig, plot_first_ax = plt.subplots()\n",
    "```\n",
    "\n",
    "In the cell below we import pandas, open up the CSV file as a dataframe called `df`, and drop duplicates."
   ]
  },
  {
   "cell_type": "code",
   "execution_count": 1,
   "metadata": {
    "deletable": false,
    "editable": false,
    "nbgrader": {
     "cell_type": "code",
     "checksum": "98367d93b612ba876560448aa17c44fa",
     "grade": false,
     "grade_id": "2f7986769f5be38231c70abf271e7ed1",
     "locked": true,
     "schema_version": 3,
     "solution": false,
     "task": false
    }
   },
   "outputs": [
    {
     "data": {
      "text/html": [
       "<div>\n",
       "<style scoped>\n",
       "    .dataframe tbody tr th:only-of-type {\n",
       "        vertical-align: middle;\n",
       "    }\n",
       "\n",
       "    .dataframe tbody tr th {\n",
       "        vertical-align: top;\n",
       "    }\n",
       "\n",
       "    .dataframe thead th {\n",
       "        text-align: right;\n",
       "    }\n",
       "</style>\n",
       "<table border=\"1\" class=\"dataframe\">\n",
       "  <thead>\n",
       "    <tr style=\"text-align: right;\">\n",
       "      <th></th>\n",
       "      <th>Number</th>\n",
       "      <th>Name</th>\n",
       "      <th>Type</th>\n",
       "      <th>Total Strength</th>\n",
       "      <th>HP</th>\n",
       "      <th>Attack</th>\n",
       "      <th>Defense</th>\n",
       "      <th>Special Attack</th>\n",
       "      <th>Special Defense</th>\n",
       "      <th>Speed</th>\n",
       "    </tr>\n",
       "  </thead>\n",
       "  <tbody>\n",
       "    <tr>\n",
       "      <th>0</th>\n",
       "      <td>001</td>\n",
       "      <td>Bulbasaur</td>\n",
       "      <td>GRASS</td>\n",
       "      <td>318</td>\n",
       "      <td>45</td>\n",
       "      <td>49</td>\n",
       "      <td>49</td>\n",
       "      <td>65</td>\n",
       "      <td>65</td>\n",
       "      <td>45</td>\n",
       "    </tr>\n",
       "    <tr>\n",
       "      <th>2</th>\n",
       "      <td>002</td>\n",
       "      <td>Ivysaur</td>\n",
       "      <td>GRASS</td>\n",
       "      <td>405</td>\n",
       "      <td>60</td>\n",
       "      <td>62</td>\n",
       "      <td>63</td>\n",
       "      <td>80</td>\n",
       "      <td>80</td>\n",
       "      <td>60</td>\n",
       "    </tr>\n",
       "    <tr>\n",
       "      <th>4</th>\n",
       "      <td>003</td>\n",
       "      <td>Venusaur</td>\n",
       "      <td>GRASS</td>\n",
       "      <td>525</td>\n",
       "      <td>80</td>\n",
       "      <td>82</td>\n",
       "      <td>83</td>\n",
       "      <td>100</td>\n",
       "      <td>100</td>\n",
       "      <td>80</td>\n",
       "    </tr>\n",
       "    <tr>\n",
       "      <th>6</th>\n",
       "      <td>003.1</td>\n",
       "      <td>Mega Venusaur</td>\n",
       "      <td>GRASS</td>\n",
       "      <td>625</td>\n",
       "      <td>80</td>\n",
       "      <td>100</td>\n",
       "      <td>123</td>\n",
       "      <td>122</td>\n",
       "      <td>120</td>\n",
       "      <td>80</td>\n",
       "    </tr>\n",
       "    <tr>\n",
       "      <th>8</th>\n",
       "      <td>004</td>\n",
       "      <td>Charmander</td>\n",
       "      <td>FIRE</td>\n",
       "      <td>309</td>\n",
       "      <td>39</td>\n",
       "      <td>52</td>\n",
       "      <td>43</td>\n",
       "      <td>60</td>\n",
       "      <td>50</td>\n",
       "      <td>65</td>\n",
       "    </tr>\n",
       "  </tbody>\n",
       "</table>\n",
       "</div>"
      ],
      "text/plain": [
       "   Number           Name   Type  Total Strength  HP  Attack  Defense  \\\n",
       "0     001      Bulbasaur  GRASS             318  45      49       49   \n",
       "2     002        Ivysaur  GRASS             405  60      62       63   \n",
       "4     003       Venusaur  GRASS             525  80      82       83   \n",
       "6   003.1  Mega Venusaur  GRASS             625  80     100      123   \n",
       "8     004     Charmander   FIRE             309  39      52       43   \n",
       "\n",
       "   Special Attack  Special Defense  Speed  \n",
       "0              65               65     45  \n",
       "2              80               80     60  \n",
       "4             100              100     80  \n",
       "6             122              120     80  \n",
       "8              60               50     65  "
      ]
     },
     "execution_count": 1,
     "metadata": {},
     "output_type": "execute_result"
    }
   ],
   "source": [
    "# Run this cell unchanged\n",
    "import pandas as pd\n",
    "df = pd.read_csv(\"data/pokemon.csv\").drop_duplicates('Name')\n",
    "df.head()"
   ]
  },
  {
   "cell_type": "markdown",
   "metadata": {
    "deletable": false,
    "editable": false,
    "nbgrader": {
     "cell_type": "markdown",
     "checksum": "64e8589142a1367b140b21abe9a04daf",
     "grade": false,
     "grade_id": "cell-c85ef5a12d99d051",
     "locked": true,
     "schema_version": 3,
     "solution": false,
     "task": false
    }
   },
   "source": [
    "## Task 1 - Import the matplotlib pyplot module using the standard alias."
   ]
  },
  {
   "cell_type": "code",
   "execution_count": 2,
   "metadata": {
    "deletable": false,
    "nbgrader": {
     "cell_type": "code",
     "checksum": "35f084c728a8ade33c9a094106cc9e9b",
     "grade": true,
     "grade_id": "cell-07dfaef1152cae60",
     "locked": false,
     "points": 0,
     "schema_version": 3,
     "solution": true,
     "task": false
    }
   },
   "outputs": [],
   "source": [
    "import matplotlib.pyplot as plt\n",
    "%matplotlib inline"
   ]
  },
  {
   "cell_type": "code",
   "execution_count": 3,
   "metadata": {
    "deletable": false,
    "editable": false,
    "nbgrader": {
     "cell_type": "code",
     "checksum": "69f4de3dcf2c0ae414cda4f2891fe7cf",
     "grade": true,
     "grade_id": "cell-55b7992a96a850bf",
     "locked": true,
     "points": 1,
     "schema_version": 3,
     "solution": false,
     "task": false
    }
   },
   "outputs": [],
   "source": [
    "# PUT ALL WORK FOR THE ABOVE QUESTION ABOVE THIS CELL\n",
    "# THIS UNALTERABLE CELL CONTAINS HIDDEN TESTS"
   ]
  },
  {
   "cell_type": "markdown",
   "metadata": {
    "deletable": false,
    "editable": false,
    "nbgrader": {
     "cell_type": "markdown",
     "checksum": "bac39c4ebcc57654f58923ae3a578be0",
     "grade": false,
     "grade_id": "cell-383262cd750bdd5f",
     "locked": true,
     "schema_version": 3,
     "solution": false,
     "task": false
    }
   },
   "source": [
    "In the cell below, we create a column called `spattack_total` that calculates how much a pokemon's `Special Attack` strength contributes to their `Total Strength`."
   ]
  },
  {
   "cell_type": "code",
   "execution_count": 4,
   "metadata": {
    "deletable": false,
    "editable": false,
    "nbgrader": {
     "cell_type": "code",
     "checksum": "c615f61ac2ef78f0a3f6c38b889f23ba",
     "grade": false,
     "grade_id": "cell-4b65f31e99e95670",
     "locked": true,
     "schema_version": 3,
     "solution": false,
     "task": false
    },
    "scrolled": false
   },
   "outputs": [
    {
     "data": {
      "text/html": [
       "<div>\n",
       "<style scoped>\n",
       "    .dataframe tbody tr th:only-of-type {\n",
       "        vertical-align: middle;\n",
       "    }\n",
       "\n",
       "    .dataframe tbody tr th {\n",
       "        vertical-align: top;\n",
       "    }\n",
       "\n",
       "    .dataframe thead th {\n",
       "        text-align: right;\n",
       "    }\n",
       "</style>\n",
       "<table border=\"1\" class=\"dataframe\">\n",
       "  <thead>\n",
       "    <tr style=\"text-align: right;\">\n",
       "      <th></th>\n",
       "      <th>Number</th>\n",
       "      <th>Name</th>\n",
       "      <th>Type</th>\n",
       "      <th>Total Strength</th>\n",
       "      <th>HP</th>\n",
       "      <th>Attack</th>\n",
       "      <th>Defense</th>\n",
       "      <th>Special Attack</th>\n",
       "      <th>Special Defense</th>\n",
       "      <th>Speed</th>\n",
       "      <th>spattack_total</th>\n",
       "    </tr>\n",
       "  </thead>\n",
       "  <tbody>\n",
       "    <tr>\n",
       "      <th>0</th>\n",
       "      <td>001</td>\n",
       "      <td>Bulbasaur</td>\n",
       "      <td>GRASS</td>\n",
       "      <td>318</td>\n",
       "      <td>45</td>\n",
       "      <td>49</td>\n",
       "      <td>49</td>\n",
       "      <td>65</td>\n",
       "      <td>65</td>\n",
       "      <td>45</td>\n",
       "      <td>0.204403</td>\n",
       "    </tr>\n",
       "    <tr>\n",
       "      <th>2</th>\n",
       "      <td>002</td>\n",
       "      <td>Ivysaur</td>\n",
       "      <td>GRASS</td>\n",
       "      <td>405</td>\n",
       "      <td>60</td>\n",
       "      <td>62</td>\n",
       "      <td>63</td>\n",
       "      <td>80</td>\n",
       "      <td>80</td>\n",
       "      <td>60</td>\n",
       "      <td>0.197531</td>\n",
       "    </tr>\n",
       "    <tr>\n",
       "      <th>4</th>\n",
       "      <td>003</td>\n",
       "      <td>Venusaur</td>\n",
       "      <td>GRASS</td>\n",
       "      <td>525</td>\n",
       "      <td>80</td>\n",
       "      <td>82</td>\n",
       "      <td>83</td>\n",
       "      <td>100</td>\n",
       "      <td>100</td>\n",
       "      <td>80</td>\n",
       "      <td>0.190476</td>\n",
       "    </tr>\n",
       "    <tr>\n",
       "      <th>6</th>\n",
       "      <td>003.1</td>\n",
       "      <td>Mega Venusaur</td>\n",
       "      <td>GRASS</td>\n",
       "      <td>625</td>\n",
       "      <td>80</td>\n",
       "      <td>100</td>\n",
       "      <td>123</td>\n",
       "      <td>122</td>\n",
       "      <td>120</td>\n",
       "      <td>80</td>\n",
       "      <td>0.195200</td>\n",
       "    </tr>\n",
       "    <tr>\n",
       "      <th>8</th>\n",
       "      <td>004</td>\n",
       "      <td>Charmander</td>\n",
       "      <td>FIRE</td>\n",
       "      <td>309</td>\n",
       "      <td>39</td>\n",
       "      <td>52</td>\n",
       "      <td>43</td>\n",
       "      <td>60</td>\n",
       "      <td>50</td>\n",
       "      <td>65</td>\n",
       "      <td>0.194175</td>\n",
       "    </tr>\n",
       "  </tbody>\n",
       "</table>\n",
       "</div>"
      ],
      "text/plain": [
       "   Number           Name   Type  Total Strength  HP  Attack  Defense  \\\n",
       "0     001      Bulbasaur  GRASS             318  45      49       49   \n",
       "2     002        Ivysaur  GRASS             405  60      62       63   \n",
       "4     003       Venusaur  GRASS             525  80      82       83   \n",
       "6   003.1  Mega Venusaur  GRASS             625  80     100      123   \n",
       "8     004     Charmander   FIRE             309  39      52       43   \n",
       "\n",
       "   Special Attack  Special Defense  Speed  spattack_total  \n",
       "0              65               65     45        0.204403  \n",
       "2              80               80     60        0.197531  \n",
       "4             100              100     80        0.190476  \n",
       "6             122              120     80        0.195200  \n",
       "8              60               50     65        0.194175  "
      ]
     },
     "execution_count": 4,
     "metadata": {},
     "output_type": "execute_result"
    }
   ],
   "source": [
    "# Run this cell unchanged\n",
    "df['spattack_total'] = df['Special Attack']/df['Total Strength']\n",
    "df.head()"
   ]
  },
  {
   "cell_type": "markdown",
   "metadata": {},
   "source": [
    "## Task 2 - Generate a sorted bar plot\n",
    "\n",
    "In the cell below, find the ten pokemon with the highest `spattack_total`, and visualize their `spattack_total` data as a sorted bar plot.\n",
    "\n",
    "➡️ **name the figure variable `plot_one_fig`**\n",
    "\n",
    "➡️ **name the axis variable `plot_one_ax`.**\n",
    "\n",
    "The visualization should have the following customizations:\n",
    "1. A figsize set to `(15,6)`\n",
    "2. A title set to `'Highest Special Attack Percentage'`\n",
    "3. A ylabel set to `'Special Attack Percentage'`\n",
    "4. An xlabel set to `'Pokemon Name'`\n",
    "\n",
    "**Below is an example of what your visualization should look like.**\n",
    "> *Note: The displayed visualization has adjusted the fontsize and customized the xticklabels. These settings will not be tested.*\n",
    "\n",
    "![](index_files/plot_one.png)"
   ]
  },
  {
   "cell_type": "code",
   "execution_count": 5,
   "metadata": {
    "deletable": false,
    "nbgrader": {
     "cell_type": "code",
     "checksum": "9013f5fc42247cce4149b77bf3674569",
     "grade": true,
     "grade_id": "cell-6b6ec459630c2111",
     "locked": false,
     "points": 0,
     "schema_version": 3,
     "solution": true,
     "task": false
    }
   },
   "outputs": [
    {
     "data": {
      "image/png": "[encoded data removed]",
      "text/plain": [
       "<Figure size 1080x432 with 1 Axes>"
      ]
     },
     "metadata": {
      "needs_background": "light"
     },
     "output_type": "display_data"
    }
   ],
   "source": [
    "plot_one_fig, plot_one_ax = plt.subplots(figsize=(15,6))\n",
    "spattack_total:df = dict(df.sort_values(by='spattack_total',ascending=False)[['Name', 'spattack_total']][:10].values)\n",
    "plot_one_ax.set_xlabel('Pokemon Name')\n",
    "plot_one_ax.set_ylabel('Special Attack Percentage')\n",
    "plot_one_ax.set_title('Highest Special Attack Percentage')\n",
    "plot_one_ax.bar(spattack_total.keys(), spattack_total.values());"
   ]
  },
  {
   "cell_type": "code",
   "execution_count": 6,
   "metadata": {
    "deletable": false,
    "editable": false,
    "nbgrader": {
     "cell_type": "code",
     "checksum": "042ca7b04a0201ee3b4d5b72ce9d85ae",
     "grade": true,
     "grade_id": "cell-5e9968d981b3885d",
     "locked": true,
     "points": 1,
     "schema_version": 3,
     "solution": false,
     "task": false
    }
   },
   "outputs": [],
   "source": [
    "# PUT ALL WORK FOR THE ABOVE QUESTION ABOVE THIS CELL\n",
    "# THIS UNALTERABLE CELL CONTAINS HIDDEN TESTS\n",
    "\n",
    "import matplotlib\n",
    "plot_one_ax_type = type(plot_one_ax)\n",
    "plot_one_fig_type = type(plot_one_fig)\n",
    "\n",
    "# plot_one_ax should be an ax from plt.subplots\n",
    "assert issubclass(plot_one_ax_type, matplotlib.axes.SubplotBase)\n",
    "# plot_one_fig should be a figure from plt.subplots\n",
    "assert issubclass(plot_one_fig_type, matplotlib.figure.Figure)"
   ]
  },
  {
   "cell_type": "markdown",
   "metadata": {
    "deletable": false,
    "editable": false,
    "nbgrader": {
     "cell_type": "markdown",
     "checksum": "ce81d9ee308af8905c057cbae72b983a",
     "grade": false,
     "grade_id": "cell-aa236b18af4ae27e",
     "locked": true,
     "schema_version": 3,
     "solution": false,
     "task": false
    }
   },
   "source": [
    "## Task 3 - Interpret a visualization\n",
    "\n",
    "Run the cell below unchanged."
   ]
  },
  {
   "cell_type": "code",
   "execution_count": 7,
   "metadata": {
    "deletable": false,
    "editable": false,
    "nbgrader": {
     "cell_type": "code",
     "checksum": "f71eaa5b15431b8e04abe978c10f2a52",
     "grade": false,
     "grade_id": "cell-cc2c8dc250c125e3",
     "locked": true,
     "schema_version": 3,
     "solution": false,
     "task": false
    }
   },
   "outputs": [
    {
     "data": {
      "image/png": "[encoded data removed]",
      "text/plain": [
       "<Figure size 1080x288 with 1 Axes>"
      ]
     },
     "metadata": {
      "needs_background": "light"
     },
     "output_type": "display_data"
    }
   ],
   "source": [
    "# Run this cell unchanged\n",
    "short_answer_fig, short_answer_ax = plt.subplots(figsize=(15,4))\n",
    "short_answer_ax.scatter(df['Special Attack'],df['Total Strength'], color='g', \n",
    "                        alpha=.6, edgecolor='black', linewidth=.5, s=100)\n",
    "short_answer_ax.set_title('Pokemon Special Attack Strength vs\\nPokemon Total Strength', fontsize=20)\n",
    "short_answer_ax.set_xlabel('Special Attack Strength', fontsize=15)\n",
    "short_answer_ax.set_ylabel('Total Strength', fontsize=15);"
   ]
  },
  {
   "cell_type": "markdown",
   "metadata": {},
   "source": [
    "### Please describe the above visualization.\n",
    "- What does the visualization tell us about the relationship between `Special Attack Strength` and `Total Strength`?\n",
    "- Would you describe the relationship as:\n",
    "    1. Weak\n",
    "    2. Moderate\n",
    "    3. Strong\n",
    "- Is this relationship surprising? Why or why not?"
   ]
  },
  {
   "cell_type": "markdown",
   "metadata": {
    "deletable": false,
    "nbgrader": {
     "cell_type": "markdown",
     "checksum": "9ea57c5ce27bde646d3439199681cba6",
     "grade": true,
     "grade_id": "cell-5822928a269a4709",
     "locked": false,
     "points": 1.5,
     "schema_version": 3,
     "solution": true,
     "task": false
    }
   },
   "source": [
    "In my opinion This Visualization tells us that there is a strong postive correlation between Special Attack Strength and Total Strength based on the imbricated data and its projected rise.\n",
    "\n",
    "Even though there were 10 pokemon that were listed to have the highest Special attack i personally feel that the numbers were pretty close altogether."
   ]
  },
  {
   "cell_type": "markdown",
   "metadata": {},
   "source": [
    "## Task 4 - Import seaborn using the standard alias"
   ]
  },
  {
   "cell_type": "code",
   "execution_count": 8,
   "metadata": {
    "deletable": false,
    "nbgrader": {
     "cell_type": "code",
     "checksum": "b893c28c4322318f1f21c6cf9eb610d9",
     "grade": true,
     "grade_id": "cell-88f34fb2644cebbf",
     "locked": false,
     "points": 0,
     "schema_version": 3,
     "solution": true,
     "task": false
    }
   },
   "outputs": [],
   "source": [
    "# your code here\n",
    "import numpy as np\n",
    "import seaborn as sns\n",
    "import matplotlib.pyplot as plt\n",
    "%matplotlib inline"
   ]
  },
  {
   "cell_type": "code",
   "execution_count": 9,
   "metadata": {
    "deletable": false,
    "editable": false,
    "nbgrader": {
     "cell_type": "code",
     "checksum": "8c706fcd1659273b67f7b98a4c05bc1d",
     "grade": true,
     "grade_id": "cell-c795214c0d7f3b50",
     "locked": true,
     "points": 1,
     "schema_version": 3,
     "solution": false,
     "task": false
    }
   },
   "outputs": [],
   "source": [
    "# PUT ALL WORK FOR THE ABOVE QUESTION ABOVE THIS CELL\n",
    "# THIS UNALTERABLE CELL CONTAINS HIDDEN TESTS"
   ]
  },
  {
   "cell_type": "markdown",
   "metadata": {},
   "source": [
    "## Task 5 - Use seaborn's `boxplot`\n",
    "\n",
    "In the cell below, using seaborn, create boxplots for every pokemon type, visualizing `Special Attack` along the y-axis.\n",
    "\n",
    "➡️ **name the figure variable `plot_two_fig`**\n",
    "\n",
    "➡️ **name the axis variable `plot_two_ax`.**\n",
    "\n",
    "This visualization should have the following customizations:\n",
    "1. A figsize of (15,4)\n",
    "2. A title set to `'Special Attack Strength by Type'`\n",
    "3. An xlabel set to `'Pokemon Type'`\n",
    "4. A ylabel set to `'Special Attack Strength'`\n",
    "\n",
    "Below is an example of what this visualization should look like:\n",
    "\n",
    "![](index_files/plot_two.png)"
   ]
  },
  {
   "cell_type": "code",
   "execution_count": 10,
   "metadata": {
    "deletable": false,
    "nbgrader": {
     "cell_type": "code",
     "checksum": "893f3492b459a2d3dd6190cf11d5fec9",
     "grade": true,
     "grade_id": "cell-5e47f0b562810d2f",
     "locked": false,
     "points": 0,
     "schema_version": 3,
     "solution": true,
     "task": false
    }
   },
   "outputs": [
    {
     "data": {
      "image/png": "[encoded data removed]",
      "text/plain": [
       "<Figure size 1080x288 with 1 Axes>"
      ]
     },
     "metadata": {
      "needs_background": "light"
     },
     "output_type": "display_data"
    }
   ],
   "source": [
    "# your code here\n",
    "plot_two_fig, plot_two_ax = plt.subplots(figsize=(15,4))\n",
    "boxplot = sns.boxplot(x='Type', y='Special Attack', data=df)\n",
    "boxplot.set(xlabel = \"Pokemon Type\", ylabel='Special Attack Strength', title='Special Attack Strength by Type');"
   ]
  },
  {
   "cell_type": "code",
   "execution_count": 11,
   "metadata": {
    "deletable": false,
    "editable": false,
    "nbgrader": {
     "cell_type": "code",
     "checksum": "0431bf3b4c6fa2d190904e4cbc79e7b6",
     "grade": true,
     "grade_id": "cell-b0b071d07a7be008",
     "locked": true,
     "points": 0.5,
     "schema_version": 3,
     "solution": false,
     "task": false
    }
   },
   "outputs": [],
   "source": [
    "# PUT ALL WORK FOR THE ABOVE QUESTION ABOVE THIS CELL\n",
    "# THIS UNALTERABLE CELL CONTAINS HIDDEN TESTS\n",
    "\n",
    "import matplotlib\n",
    "plot_two_ax_type = type(plot_two_ax)\n",
    "plot_two_fig_type = type(plot_two_fig)\n",
    "\n",
    "# plot_two_ax should be an ax from plt.subplots\n",
    "assert issubclass(plot_two_ax_type, matplotlib.axes.SubplotBase)\n",
    "# plot_two_fig should be a figure from plt.subplots\n",
    "assert issubclass(plot_two_fig_type, matplotlib.figure.Figure)"
   ]
  },
  {
   "cell_type": "markdown",
   "metadata": {
    "deletable": false,
    "editable": false,
    "nbgrader": {
     "cell_type": "markdown",
     "checksum": "742a5cec17b69869279f236ff9aef8c7",
     "grade": false,
     "grade_id": "cell-76620b077b9fc35a",
     "locked": true,
     "schema_version": 3,
     "solution": false,
     "task": false
    }
   },
   "source": [
    "### Extra credit\n",
    " \n",
    "Based on the above visualization, which pokemon type would you say has the widest spread/highest variance?"
   ]
  },
  {
   "cell_type": "markdown",
   "metadata": {
    "deletable": false,
    "nbgrader": {
     "cell_type": "markdown",
     "checksum": "aa97a9ece8f8de9ca0703f9037d70ff4",
     "grade": true,
     "grade_id": "cell-249a0b84e5a3217d",
     "locked": false,
     "points": 0,
     "schema_version": 3,
     "solution": true,
     "task": false
    }
   },
   "source": [
    "Solosis"
   ]
  },
  {
   "cell_type": "markdown",
   "metadata": {
    "deletable": false,
    "editable": false,
    "nbgrader": {
     "cell_type": "markdown",
     "checksum": "a96a75e8f894642dd21045858906da54",
     "grade": false,
     "grade_id": "cell-8aeb2adb7e647d4e",
     "locked": true,
     "schema_version": 3,
     "solution": false,
     "task": false
    }
   },
   "source": [
    "# Before submission, make sure you restart the kernel and run all of the cells to make sure that everything works in order!"
   ]
  }
 ],
 "metadata": {
  "kernelspec": {
   "display_name": "Python 3",
   "language": "python",
   "name": "python3"
  },
  "language_info": {
   "codemirror_mode": {
    "name": "ipython",
    "version": 3
   },
   "file_extension": ".py",
   "mimetype": "text/x-python",
   "name": "python",
   "nbconvert_exporter": "python",
   "pygments_lexer": "ipython3",
   "version": "3.9.5"
  }
 },
 "nbformat": 4,
 "nbformat_minor": 4
}
